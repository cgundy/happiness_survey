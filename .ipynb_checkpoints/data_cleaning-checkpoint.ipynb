{
 "cells": [
  {
   "cell_type": "markdown",
   "metadata": {},
   "source": [
    "# Happiness Survey Data Cleaning\n",
    "\n",
    "The first part of any analysis is to read in your data and see what needs to be cleaned up before you start evaluating it\n",
    "\n",
    "For this analysis, we will be looking at happiness survey data from Somerville residents.\n",
    "\n",
    "https://catalog.data.gov/dataset/somerville-happiness-survey-responses-2011-2013-2015"
   ]
  },
  {
   "cell_type": "code",
   "execution_count": 84,
   "metadata": {},
   "outputs": [],
   "source": [
    "# import standard packages\n",
    "import pandas as pd\n",
    "import numpy as np\n",
    "import matplotlib.pyplot as plt\n",
    "import seaborn as sns\n",
    "%matplotlib inline"
   ]
  },
  {
   "cell_type": "code",
   "execution_count": 3,
   "metadata": {},
   "outputs": [
    {
     "data": {
      "text/html": [
       "<div>\n",
       "<style scoped>\n",
       "    .dataframe tbody tr th:only-of-type {\n",
       "        vertical-align: middle;\n",
       "    }\n",
       "\n",
       "    .dataframe tbody tr th {\n",
       "        vertical-align: top;\n",
       "    }\n",
       "\n",
       "    .dataframe thead th {\n",
       "        text-align: right;\n",
       "    }\n",
       "</style>\n",
       "<table border=\"1\" class=\"dataframe\">\n",
       "  <thead>\n",
       "    <tr style=\"text-align: right;\">\n",
       "      <th></th>\n",
       "      <th>Combined_ID</th>\n",
       "      <th>Year</th>\n",
       "      <th>How.happy.do.you.feel.right.now.</th>\n",
       "      <th>How.satisfied.are.you.with.your.life.in.general.</th>\n",
       "      <th>How.satisfied.are.you.with.Somerville.as.a.place.to.live.</th>\n",
       "      <th>In.general..how.similar.are.you.to.other.people.you.know._2011</th>\n",
       "      <th>When.making.decisions..are.you.more.likely.to.seek.advice.or.decide.for.yourself._2011.</th>\n",
       "      <th>How.satisfied.are.you.with.your.neighborhood.</th>\n",
       "      <th>How.proud.are.you.to.be.a.Somerville.resident._2015</th>\n",
       "      <th>How.would.you.rate.the.following..The.availability.of.information.about.city.services._2015</th>\n",
       "      <th>...</th>\n",
       "      <th>What.is.your.race.or.ethnicity._2015</th>\n",
       "      <th>Do.you.have.children.age.18.or.younger.who.live.with.you.</th>\n",
       "      <th>Describe.your.housing.status.in.Somerville.</th>\n",
       "      <th>Do.you.plan.to.move.away.from.Somerville.in.the.next.two.years.</th>\n",
       "      <th>How.long.have.you.lived.here.</th>\n",
       "      <th>What.is.your.annual.household.income.</th>\n",
       "      <th>What.neighborhood.do.you.live.in.</th>\n",
       "      <th>Are.you.a.student.</th>\n",
       "      <th>Ward</th>\n",
       "      <th>Precinct</th>\n",
       "    </tr>\n",
       "  </thead>\n",
       "  <tbody>\n",
       "    <tr>\n",
       "      <th>0</th>\n",
       "      <td>1</td>\n",
       "      <td>2015</td>\n",
       "      <td>7.0</td>\n",
       "      <td>5.0</td>\n",
       "      <td>7.0</td>\n",
       "      <td>NaN</td>\n",
       "      <td>NaN</td>\n",
       "      <td>5.0</td>\n",
       "      <td>9.0</td>\n",
       "      <td>3.0</td>\n",
       "      <td>...</td>\n",
       "      <td>White, Hispanic / Latino</td>\n",
       "      <td>No</td>\n",
       "      <td>Rent</td>\n",
       "      <td>No</td>\n",
       "      <td>4-7 years</td>\n",
       "      <td>$100,000 to $149,999</td>\n",
       "      <td>Winter Hill</td>\n",
       "      <td>No</td>\n",
       "      <td>4.0</td>\n",
       "      <td>3.0</td>\n",
       "    </tr>\n",
       "    <tr>\n",
       "      <th>1</th>\n",
       "      <td>2</td>\n",
       "      <td>2015</td>\n",
       "      <td>8.0</td>\n",
       "      <td>8.0</td>\n",
       "      <td>7.0</td>\n",
       "      <td>NaN</td>\n",
       "      <td>NaN</td>\n",
       "      <td>8.0</td>\n",
       "      <td>7.0</td>\n",
       "      <td>3.0</td>\n",
       "      <td>...</td>\n",
       "      <td>White</td>\n",
       "      <td>No</td>\n",
       "      <td>Rent</td>\n",
       "      <td>Yes</td>\n",
       "      <td>1-3 years</td>\n",
       "      <td>$25,000 to $49,999</td>\n",
       "      <td>Teele Square</td>\n",
       "      <td>Yes</td>\n",
       "      <td>7.0</td>\n",
       "      <td>2.0</td>\n",
       "    </tr>\n",
       "    <tr>\n",
       "      <th>2</th>\n",
       "      <td>3</td>\n",
       "      <td>2015</td>\n",
       "      <td>5.0</td>\n",
       "      <td>9.0</td>\n",
       "      <td>6.0</td>\n",
       "      <td>NaN</td>\n",
       "      <td>NaN</td>\n",
       "      <td>7.0</td>\n",
       "      <td>5.0</td>\n",
       "      <td>3.0</td>\n",
       "      <td>...</td>\n",
       "      <td>White</td>\n",
       "      <td>No</td>\n",
       "      <td>Rent</td>\n",
       "      <td>No</td>\n",
       "      <td>21 years or more</td>\n",
       "      <td>$25,000 to $49,999</td>\n",
       "      <td>Ward 3</td>\n",
       "      <td>No</td>\n",
       "      <td>3.0</td>\n",
       "      <td>2.0</td>\n",
       "    </tr>\n",
       "    <tr>\n",
       "      <th>3</th>\n",
       "      <td>4</td>\n",
       "      <td>2015</td>\n",
       "      <td>5.0</td>\n",
       "      <td>8.0</td>\n",
       "      <td>9.0</td>\n",
       "      <td>NaN</td>\n",
       "      <td>NaN</td>\n",
       "      <td>9.0</td>\n",
       "      <td>9.0</td>\n",
       "      <td>5.0</td>\n",
       "      <td>...</td>\n",
       "      <td>White</td>\n",
       "      <td>No</td>\n",
       "      <td>Own</td>\n",
       "      <td>No</td>\n",
       "      <td>16-20 years</td>\n",
       "      <td>NaN</td>\n",
       "      <td>Union Square</td>\n",
       "      <td>No</td>\n",
       "      <td>3.0</td>\n",
       "      <td>1.0</td>\n",
       "    </tr>\n",
       "    <tr>\n",
       "      <th>4</th>\n",
       "      <td>5</td>\n",
       "      <td>2015</td>\n",
       "      <td>7.0</td>\n",
       "      <td>9.0</td>\n",
       "      <td>8.0</td>\n",
       "      <td>NaN</td>\n",
       "      <td>NaN</td>\n",
       "      <td>7.0</td>\n",
       "      <td>7.0</td>\n",
       "      <td>5.0</td>\n",
       "      <td>...</td>\n",
       "      <td>White</td>\n",
       "      <td>Yes</td>\n",
       "      <td>Own</td>\n",
       "      <td>No</td>\n",
       "      <td>4-7 years</td>\n",
       "      <td>$150,000 or more</td>\n",
       "      <td>Near the hospital</td>\n",
       "      <td>No</td>\n",
       "      <td>5.0</td>\n",
       "      <td>3.0</td>\n",
       "    </tr>\n",
       "  </tbody>\n",
       "</table>\n",
       "<p>5 rows × 43 columns</p>\n",
       "</div>"
      ],
      "text/plain": [
       "   Combined_ID  Year  How.happy.do.you.feel.right.now.  \\\n",
       "0            1  2015                               7.0   \n",
       "1            2  2015                               8.0   \n",
       "2            3  2015                               5.0   \n",
       "3            4  2015                               5.0   \n",
       "4            5  2015                               7.0   \n",
       "\n",
       "   How.satisfied.are.you.with.your.life.in.general.  \\\n",
       "0                                               5.0   \n",
       "1                                               8.0   \n",
       "2                                               9.0   \n",
       "3                                               8.0   \n",
       "4                                               9.0   \n",
       "\n",
       "   How.satisfied.are.you.with.Somerville.as.a.place.to.live.  \\\n",
       "0                                                7.0           \n",
       "1                                                7.0           \n",
       "2                                                6.0           \n",
       "3                                                9.0           \n",
       "4                                                8.0           \n",
       "\n",
       "   In.general..how.similar.are.you.to.other.people.you.know._2011  \\\n",
       "0                                                NaN                \n",
       "1                                                NaN                \n",
       "2                                                NaN                \n",
       "3                                                NaN                \n",
       "4                                                NaN                \n",
       "\n",
       "   When.making.decisions..are.you.more.likely.to.seek.advice.or.decide.for.yourself._2011.  \\\n",
       "0                                                NaN                                         \n",
       "1                                                NaN                                         \n",
       "2                                                NaN                                         \n",
       "3                                                NaN                                         \n",
       "4                                                NaN                                         \n",
       "\n",
       "   How.satisfied.are.you.with.your.neighborhood.  \\\n",
       "0                                            5.0   \n",
       "1                                            8.0   \n",
       "2                                            7.0   \n",
       "3                                            9.0   \n",
       "4                                            7.0   \n",
       "\n",
       "   How.proud.are.you.to.be.a.Somerville.resident._2015  \\\n",
       "0                                                9.0     \n",
       "1                                                7.0     \n",
       "2                                                5.0     \n",
       "3                                                9.0     \n",
       "4                                                7.0     \n",
       "\n",
       "   How.would.you.rate.the.following..The.availability.of.information.about.city.services._2015  \\\n",
       "0                                                3.0                                             \n",
       "1                                                3.0                                             \n",
       "2                                                3.0                                             \n",
       "3                                                5.0                                             \n",
       "4                                                5.0                                             \n",
       "\n",
       "     ...     What.is.your.race.or.ethnicity._2015  \\\n",
       "0    ...                 White, Hispanic / Latino   \n",
       "1    ...                                    White   \n",
       "2    ...                                    White   \n",
       "3    ...                                    White   \n",
       "4    ...                                    White   \n",
       "\n",
       "   Do.you.have.children.age.18.or.younger.who.live.with.you.  \\\n",
       "0                                                 No           \n",
       "1                                                 No           \n",
       "2                                                 No           \n",
       "3                                                 No           \n",
       "4                                                Yes           \n",
       "\n",
       "   Describe.your.housing.status.in.Somerville.  \\\n",
       "0                                         Rent   \n",
       "1                                         Rent   \n",
       "2                                         Rent   \n",
       "3                                          Own   \n",
       "4                                          Own   \n",
       "\n",
       "   Do.you.plan.to.move.away.from.Somerville.in.the.next.two.years.  \\\n",
       "0                                                 No                 \n",
       "1                                                Yes                 \n",
       "2                                                 No                 \n",
       "3                                                 No                 \n",
       "4                                                 No                 \n",
       "\n",
       "   How.long.have.you.lived.here.  What.is.your.annual.household.income.  \\\n",
       "0                      4-7 years                   $100,000 to $149,999   \n",
       "1                      1-3 years                     $25,000 to $49,999   \n",
       "2               21 years or more                     $25,000 to $49,999   \n",
       "3                    16-20 years                                    NaN   \n",
       "4                      4-7 years                       $150,000 or more   \n",
       "\n",
       "   What.neighborhood.do.you.live.in.  Are.you.a.student.  Ward  Precinct  \n",
       "0                        Winter Hill                  No   4.0       3.0  \n",
       "1                       Teele Square                 Yes   7.0       2.0  \n",
       "2                             Ward 3                  No   3.0       2.0  \n",
       "3                       Union Square                  No   3.0       1.0  \n",
       "4                  Near the hospital                  No   5.0       3.0  \n",
       "\n",
       "[5 rows x 43 columns]"
      ]
     },
     "execution_count": 3,
     "metadata": {},
     "output_type": "execute_result"
    }
   ],
   "source": [
    "survey_data_raw = pd.read_csv('Somerville_Happiness_Survey_responses_-_2011__2013__2015.csv')\n",
    "survey_data_raw.head()"
   ]
  },
  {
   "cell_type": "markdown",
   "metadata": {},
   "source": [
    "Let's take a look at all the columns"
   ]
  },
  {
   "cell_type": "code",
   "execution_count": 5,
   "metadata": {},
   "outputs": [
    {
     "data": {
      "text/plain": [
       "Index(['Combined_ID', 'Year', 'How.happy.do.you.feel.right.now.',\n",
       "       'How.satisfied.are.you.with.your.life.in.general.',\n",
       "       'How.satisfied.are.you.with.Somerville.as.a.place.to.live.',\n",
       "       'In.general..how.similar.are.you.to.other.people.you.know._2011',\n",
       "       'When.making.decisions..are.you.more.likely.to.seek.advice.or.decide.for.yourself._2011.',\n",
       "       'How.satisfied.are.you.with.your.neighborhood.',\n",
       "       'How.proud.are.you.to.be.a.Somerville.resident._2015',\n",
       "       'How.would.you.rate.the.following..The.availability.of.information.about.city.services._2015',\n",
       "       'The.availability.of.affordable.housing_2011',\n",
       "       'How.would.you.rate.the.following..The.cost.of.housing.',\n",
       "       'How.would.you.rate.the.following..The.overall.quality.of.public.schools.in.your.community._2011',\n",
       "       'How.would.you.rate.the.following..The.overall.quality.of.public.schools.',\n",
       "       'How.would.you.rate.the.following..The.beauty.or.physical.setting_2011',\n",
       "       'How.would.you.rate.the.following..The.beauty.or.physical.setting.of.Somerville_2013',\n",
       "       'How.would.you.rate.the.following..The.effectiveness.of.the.local.police_2011_2013',\n",
       "       'How.would.you.rate.the.following..Your.trust.in.the.local.police_2015',\n",
       "       'How.would.you.rate.the.following..The.maintenance.of.streets..sidewalks..and..squares_2013',\n",
       "       'How.would.you.rate.the.following..The.maintenance.of.streets.and.sidewalks_2015',\n",
       "       'How.would.you.rate.the.following..The.availability.of.social.community.events',\n",
       "       'How.safe.do.you.feel.walking.in.your.neighborhood.at.night_2013',\n",
       "       'How.safe.do.you.feel.walking.in.your.community.at.night._2015',\n",
       "       'How.satisfied.are.you.with.the.beauty.or.physical.setting.of.your.neighborhood.',\n",
       "       'How.satisfied.are.you.with.the.appearance.of.parks.in.your.neighborhood._2013',\n",
       "       'How.satisfied.are.you.with.the.appearance.of.parks.and.squares.in.your.neighborhood.',\n",
       "       'What.is.your.sex.', 'What.is.your.gender._2011', 'Age.',\n",
       "       'Marital.status._2011',\n",
       "       'What.language..other.than.English..do.you.speak.at.home._2015',\n",
       "       'What.is.your.race_2011_2013',\n",
       "       'Are.you.of.Hispanic..Latino..or.Spanish.origin._2013',\n",
       "       'What.is.your.race.or.ethnicity._2015',\n",
       "       'Do.you.have.children.age.18.or.younger.who.live.with.you.',\n",
       "       'Describe.your.housing.status.in.Somerville.',\n",
       "       'Do.you.plan.to.move.away.from.Somerville.in.the.next.two.years.',\n",
       "       'How.long.have.you.lived.here.',\n",
       "       'What.is.your.annual.household.income.',\n",
       "       'What.neighborhood.do.you.live.in.', 'Are.you.a.student.', 'Ward',\n",
       "       'Precinct'],\n",
       "      dtype='object')"
      ]
     },
     "execution_count": 5,
     "metadata": {},
     "output_type": "execute_result"
    }
   ],
   "source": [
    "survey_data_raw.columns"
   ]
  },
  {
   "cell_type": "markdown",
   "metadata": {},
   "source": [
    "It is good to have the reference of what the original questions were, but these column names aren't ideal for coding. We will "
   ]
  },
  {
   "cell_type": "code",
   "execution_count": 75,
   "metadata": {},
   "outputs": [],
   "source": [
    "survey_data = survey_data_raw.rename(columns={'How.happy.do.you.feel.right.now.': 'Happiness Felt',\n",
    "       'How.satisfied.are.you.with.your.life.in.general.': 'Life Satisfaction',\n",
    "       'How.satisfied.are.you.with.Somerville.as.a.place.to.live.': 'Sommerville Satisfaction',\n",
    "       'In.general..how.similar.are.you.to.other.people.you.know._2011': 'Similarity',\n",
    "       'When.making.decisions..are.you.more.likely.to.seek.advice.or.decide.for.yourself._2011.':'Advice',\n",
    "       'How.satisfied.are.you.with.your.neighborhood.':'Neighborhood Satisfaction',\n",
    "       'How.proud.are.you.to.be.a.Somerville.resident._2015':'Somerville Pride',\n",
    "       'How.would.you.rate.the.following..The.availability.of.information.about.city.services._2015':'City Service Info',\n",
    "       'The.availability.of.affordable.housing_2011':'Affordable Housing',\n",
    "       'How.would.you.rate.the.following..The.cost.of.housing.':'Housing Cost',\n",
    "       'How.would.you.rate.the.following..The.overall.quality.of.public.schools.in.your.community._2011':'Public Schools Comm',\n",
    "       'How.would.you.rate.the.following..The.overall.quality.of.public.schools.':'Public Schools Overall',\n",
    "       'How.would.you.rate.the.following..The.beauty.or.physical.setting_2011':'Beauty',\n",
    "       'How.would.you.rate.the.following..The.beauty.or.physical.setting.of.Somerville_2013':'Beauty of Somerville',\n",
    "       'How.would.you.rate.the.following..The.effectiveness.of.the.local.police_2011_2013':'Police Effectiveness',\n",
    "       'How.would.you.rate.the.following..Your.trust.in.the.local.police_2015':'Police Trust',\n",
    "       'How.would.you.rate.the.following..The.maintenance.of.streets..sidewalks..and..squares_2013':'Street Maintenance 2013',\n",
    "       'How.would.you.rate.the.following..The.maintenance.of.streets.and.sidewalks_2015':'Street Maintenance 2015',\n",
    "       'How.would.you.rate.the.following..The.availability.of.social.community.events':'Community Events',\n",
    "       'How.safe.do.you.feel.walking.in.your.neighborhood.at.night_2013':'Night Safety 2013',\n",
    "       'How.safe.do.you.feel.walking.in.your.community.at.night._2015':'Night Safety 2015',\n",
    "       'How.satisfied.are.you.with.the.beauty.or.physical.setting.of.your.neighborhood.':'Neighborhood Beauty',\n",
    "       'How.satisfied.are.you.with.the.appearance.of.parks.in.your.neighborhood._2013':'Neighborhood Parks 2013',\n",
    "       'How.satisfied.are.you.with.the.appearance.of.parks.and.squares.in.your.neighborhood.':'Neighborhood Parks',\n",
    "       'What.is.your.sex.':'Sex', \n",
    "        'What.is.your.gender._2011':'Gender', \n",
    "        'Age.':'Age',\n",
    "       'Marital.status._2011':'Marital Status',\n",
    "       'What.language..other.than.English..do.you.speak.at.home._2015':'Language at Home',\n",
    "       'What.is.your.race_2011_2013':'Race 2013',\n",
    "       'Are.you.of.Hispanic..Latino..or.Spanish.origin._2013':'Hispanice Latino Spanish',\n",
    "       'What.is.your.race.or.ethnicity._2015':'Race 2015',\n",
    "       'Do.you.have.children.age.18.or.younger.who.live.with.you.':'Children < 18',\n",
    "       'Describe.your.housing.status.in.Somerville.':'Housing Status',\n",
    "       'Do.you.plan.to.move.away.from.Somerville.in.the.next.two.years.':'Move Away',\n",
    "       'How.long.have.you.lived.here.':'Time in Somerville',\n",
    "       'What.is.your.annual.household.income.':'Household Income',\n",
    "       'What.neighborhood.do.you.live.in.':'Neighborhood',\n",
    "        'Are.you.a.student.':'Student'})"
   ]
  },
  {
   "cell_type": "code",
   "execution_count": 7,
   "metadata": {},
   "outputs": [
    {
     "data": {
      "text/html": [
       "<div>\n",
       "<style scoped>\n",
       "    .dataframe tbody tr th:only-of-type {\n",
       "        vertical-align: middle;\n",
       "    }\n",
       "\n",
       "    .dataframe tbody tr th {\n",
       "        vertical-align: top;\n",
       "    }\n",
       "\n",
       "    .dataframe thead th {\n",
       "        text-align: right;\n",
       "    }\n",
       "</style>\n",
       "<table border=\"1\" class=\"dataframe\">\n",
       "  <thead>\n",
       "    <tr style=\"text-align: right;\">\n",
       "      <th></th>\n",
       "      <th>Combined_ID</th>\n",
       "      <th>Year</th>\n",
       "      <th>Happiness Felt</th>\n",
       "      <th>Life Satisfaction</th>\n",
       "      <th>Sommerville Satisfaction</th>\n",
       "      <th>Similarity</th>\n",
       "      <th>Advice</th>\n",
       "      <th>Neighborhood Satisfaction</th>\n",
       "      <th>Somerville Pride</th>\n",
       "      <th>City Service Info</th>\n",
       "      <th>...</th>\n",
       "      <th>Race 2015</th>\n",
       "      <th>Children &lt;18</th>\n",
       "      <th>Housing Status</th>\n",
       "      <th>Move Away</th>\n",
       "      <th>Time in Somerville</th>\n",
       "      <th>Household Income</th>\n",
       "      <th>Neighborhood</th>\n",
       "      <th>Student</th>\n",
       "      <th>Ward</th>\n",
       "      <th>Precinct</th>\n",
       "    </tr>\n",
       "  </thead>\n",
       "  <tbody>\n",
       "    <tr>\n",
       "      <th>0</th>\n",
       "      <td>1</td>\n",
       "      <td>2015</td>\n",
       "      <td>7.0</td>\n",
       "      <td>5.0</td>\n",
       "      <td>7.0</td>\n",
       "      <td>NaN</td>\n",
       "      <td>NaN</td>\n",
       "      <td>5.0</td>\n",
       "      <td>9.0</td>\n",
       "      <td>3.0</td>\n",
       "      <td>...</td>\n",
       "      <td>White, Hispanic / Latino</td>\n",
       "      <td>No</td>\n",
       "      <td>Rent</td>\n",
       "      <td>No</td>\n",
       "      <td>4-7 years</td>\n",
       "      <td>$100,000 to $149,999</td>\n",
       "      <td>Winter Hill</td>\n",
       "      <td>No</td>\n",
       "      <td>4.0</td>\n",
       "      <td>3.0</td>\n",
       "    </tr>\n",
       "    <tr>\n",
       "      <th>1</th>\n",
       "      <td>2</td>\n",
       "      <td>2015</td>\n",
       "      <td>8.0</td>\n",
       "      <td>8.0</td>\n",
       "      <td>7.0</td>\n",
       "      <td>NaN</td>\n",
       "      <td>NaN</td>\n",
       "      <td>8.0</td>\n",
       "      <td>7.0</td>\n",
       "      <td>3.0</td>\n",
       "      <td>...</td>\n",
       "      <td>White</td>\n",
       "      <td>No</td>\n",
       "      <td>Rent</td>\n",
       "      <td>Yes</td>\n",
       "      <td>1-3 years</td>\n",
       "      <td>$25,000 to $49,999</td>\n",
       "      <td>Teele Square</td>\n",
       "      <td>Yes</td>\n",
       "      <td>7.0</td>\n",
       "      <td>2.0</td>\n",
       "    </tr>\n",
       "    <tr>\n",
       "      <th>2</th>\n",
       "      <td>3</td>\n",
       "      <td>2015</td>\n",
       "      <td>5.0</td>\n",
       "      <td>9.0</td>\n",
       "      <td>6.0</td>\n",
       "      <td>NaN</td>\n",
       "      <td>NaN</td>\n",
       "      <td>7.0</td>\n",
       "      <td>5.0</td>\n",
       "      <td>3.0</td>\n",
       "      <td>...</td>\n",
       "      <td>White</td>\n",
       "      <td>No</td>\n",
       "      <td>Rent</td>\n",
       "      <td>No</td>\n",
       "      <td>21 years or more</td>\n",
       "      <td>$25,000 to $49,999</td>\n",
       "      <td>Ward 3</td>\n",
       "      <td>No</td>\n",
       "      <td>3.0</td>\n",
       "      <td>2.0</td>\n",
       "    </tr>\n",
       "    <tr>\n",
       "      <th>3</th>\n",
       "      <td>4</td>\n",
       "      <td>2015</td>\n",
       "      <td>5.0</td>\n",
       "      <td>8.0</td>\n",
       "      <td>9.0</td>\n",
       "      <td>NaN</td>\n",
       "      <td>NaN</td>\n",
       "      <td>9.0</td>\n",
       "      <td>9.0</td>\n",
       "      <td>5.0</td>\n",
       "      <td>...</td>\n",
       "      <td>White</td>\n",
       "      <td>No</td>\n",
       "      <td>Own</td>\n",
       "      <td>No</td>\n",
       "      <td>16-20 years</td>\n",
       "      <td>NaN</td>\n",
       "      <td>Union Square</td>\n",
       "      <td>No</td>\n",
       "      <td>3.0</td>\n",
       "      <td>1.0</td>\n",
       "    </tr>\n",
       "    <tr>\n",
       "      <th>4</th>\n",
       "      <td>5</td>\n",
       "      <td>2015</td>\n",
       "      <td>7.0</td>\n",
       "      <td>9.0</td>\n",
       "      <td>8.0</td>\n",
       "      <td>NaN</td>\n",
       "      <td>NaN</td>\n",
       "      <td>7.0</td>\n",
       "      <td>7.0</td>\n",
       "      <td>5.0</td>\n",
       "      <td>...</td>\n",
       "      <td>White</td>\n",
       "      <td>Yes</td>\n",
       "      <td>Own</td>\n",
       "      <td>No</td>\n",
       "      <td>4-7 years</td>\n",
       "      <td>$150,000 or more</td>\n",
       "      <td>Near the hospital</td>\n",
       "      <td>No</td>\n",
       "      <td>5.0</td>\n",
       "      <td>3.0</td>\n",
       "    </tr>\n",
       "  </tbody>\n",
       "</table>\n",
       "<p>5 rows × 43 columns</p>\n",
       "</div>"
      ],
      "text/plain": [
       "   Combined_ID  Year  Happiness Felt  Life Satisfaction  \\\n",
       "0            1  2015             7.0                5.0   \n",
       "1            2  2015             8.0                8.0   \n",
       "2            3  2015             5.0                9.0   \n",
       "3            4  2015             5.0                8.0   \n",
       "4            5  2015             7.0                9.0   \n",
       "\n",
       "   Sommerville Satisfaction  Similarity  Advice  Neighborhood Satisfaction  \\\n",
       "0                       7.0         NaN     NaN                        5.0   \n",
       "1                       7.0         NaN     NaN                        8.0   \n",
       "2                       6.0         NaN     NaN                        7.0   \n",
       "3                       9.0         NaN     NaN                        9.0   \n",
       "4                       8.0         NaN     NaN                        7.0   \n",
       "\n",
       "   Somerville Pride  City Service Info    ...                    Race 2015  \\\n",
       "0               9.0                3.0    ...     White, Hispanic / Latino   \n",
       "1               7.0                3.0    ...                        White   \n",
       "2               5.0                3.0    ...                        White   \n",
       "3               9.0                5.0    ...                        White   \n",
       "4               7.0                5.0    ...                        White   \n",
       "\n",
       "   Children <18  Housing Status  Move Away  Time in Somerville  \\\n",
       "0            No            Rent         No           4-7 years   \n",
       "1            No            Rent        Yes           1-3 years   \n",
       "2            No            Rent         No    21 years or more   \n",
       "3            No             Own         No         16-20 years   \n",
       "4           Yes             Own         No           4-7 years   \n",
       "\n",
       "       Household Income       Neighborhood  Student  Ward  Precinct  \n",
       "0  $100,000 to $149,999        Winter Hill       No   4.0       3.0  \n",
       "1    $25,000 to $49,999       Teele Square      Yes   7.0       2.0  \n",
       "2    $25,000 to $49,999             Ward 3       No   3.0       2.0  \n",
       "3                   NaN       Union Square       No   3.0       1.0  \n",
       "4      $150,000 or more  Near the hospital       No   5.0       3.0  \n",
       "\n",
       "[5 rows x 43 columns]"
      ]
     },
     "execution_count": 7,
     "metadata": {},
     "output_type": "execute_result"
    }
   ],
   "source": [
    "survey_data.head()"
   ]
  },
  {
   "cell_type": "markdown",
   "metadata": {},
   "source": [
    "Now that we have all the columns renamed we can start looking more closely at them and start feature engineering\n",
    "\n",
    "For instance, some columns we can combine into one"
   ]
  },
  {
   "cell_type": "code",
   "execution_count": 76,
   "metadata": {},
   "outputs": [
    {
     "data": {
      "text/plain": [
       "Index(['Combined_ID', 'Year', 'Happiness Felt', 'Life Satisfaction',\n",
       "       'Sommerville Satisfaction', 'Similarity', 'Advice',\n",
       "       'Neighborhood Satisfaction', 'Somerville Pride', 'City Service Info',\n",
       "       'Affordable Housing', 'Housing Cost', 'Public Schools Comm',\n",
       "       'Public Schools Overall', 'Beauty', 'Beauty of Somerville',\n",
       "       'Police Effectiveness', 'Police Trust', 'Community Events',\n",
       "       'Neighborhood Beauty', 'Neighborhood Parks 2013', 'Neighborhood Parks',\n",
       "       'Sex', 'Gender', 'Age', 'Marital Status', 'Language at Home',\n",
       "       'Race 2013', 'Hispanice Latino Spanish', 'Race 2015', 'Children < 18',\n",
       "       'Housing Status', 'Move Away', 'Time in Somerville', 'Household Income',\n",
       "       'Neighborhood', 'Student', 'Ward', 'Precinct', 'Street Maintenance',\n",
       "       'Night Safety'],\n",
       "      dtype='object')"
      ]
     },
     "execution_count": 76,
     "metadata": {},
     "output_type": "execute_result"
    }
   ],
   "source": [
    "survey_data['Street Maintenance'] = survey_data['Street Maintenance 2013'].fillna(0) + survey_data['Street Maintenance 2015'].fillna(0)\n",
    "survey_data = survey_data.drop(['Street Maintenance 2013', 'Street Maintenance 2015'], axis=1)\n",
    "\n",
    "survey_data['Night Safety'] = survey_data['Night Safety 2013'].fillna(0) + survey_data['Night Safety 2015'].fillna(0)\n",
    "survey_data = survey_data.drop(['Night Safety 2013', 'Night Safety 2015'], axis=1)\n",
    "\n",
    "#survey_data['Race'] = pd.concat(pd.DataFrame(survey_data)['Race 2013'], pd.DataFrame(survey_data)['Race 2015'])\n",
    "#survey_data = survey_data.drop(['Race 2013', 'Race 2015'], axis=1)\n",
    "\n",
    "survey_data.columns"
   ]
  },
  {
   "cell_type": "markdown",
   "metadata": {},
   "source": [
    "Now we can start thinking about how we want to treat each of the variables. First, let's get an idea of how big our data set is, then we'll go through each of the variables and see if we need to make any modifications to them."
   ]
  },
  {
   "cell_type": "code",
   "execution_count": 74,
   "metadata": {},
   "outputs": [
    {
     "data": {
      "text/plain": [
       "(6387, 41)"
      ]
     },
     "execution_count": 74,
     "metadata": {},
     "output_type": "execute_result"
    }
   ],
   "source": [
    "survey_data.shape"
   ]
  },
  {
   "cell_type": "markdown",
   "metadata": {},
   "source": [
    "This is not a huge data set, so we might not want to throw out too many missing values.\n",
    "\n",
    "## Happiness Felt"
   ]
  },
  {
   "cell_type": "code",
   "execution_count": 23,
   "metadata": {},
   "outputs": [
    {
     "data": {
      "text/plain": [
       "Happiness Felt\n",
       "1.0       106\n",
       "2.0        57\n",
       "3.0       155\n",
       "4.0       210\n",
       "5.0       370\n",
       "5.5         9\n",
       "6.0       543\n",
       "6.5         8\n",
       "7.0      1201\n",
       "7.5        19\n",
       "8.0      1822\n",
       "8.5        13\n",
       "9.0      1011\n",
       "9.5         6\n",
       "10.0      886\n",
       "42.0        1\n",
       "57.0        1\n",
       "77.0        1\n",
       "88.0        1\n",
       "810.0       1\n",
       "dtype: int64"
      ]
     },
     "execution_count": 23,
     "metadata": {},
     "output_type": "execute_result"
    }
   ],
   "source": [
    "survey_data.groupby('Happiness Felt').size()"
   ]
  },
  {
   "cell_type": "markdown",
   "metadata": {},
   "source": [
    "Looks like we have some outliers. Let's take a look at them and make sure it's safe to exclude them"
   ]
  },
  {
   "cell_type": "code",
   "execution_count": 24,
   "metadata": {},
   "outputs": [
    {
     "data": {
      "text/html": [
       "<div>\n",
       "<style scoped>\n",
       "    .dataframe tbody tr th:only-of-type {\n",
       "        vertical-align: middle;\n",
       "    }\n",
       "\n",
       "    .dataframe tbody tr th {\n",
       "        vertical-align: top;\n",
       "    }\n",
       "\n",
       "    .dataframe thead th {\n",
       "        text-align: right;\n",
       "    }\n",
       "</style>\n",
       "<table border=\"1\" class=\"dataframe\">\n",
       "  <thead>\n",
       "    <tr style=\"text-align: right;\">\n",
       "      <th></th>\n",
       "      <th>Combined_ID</th>\n",
       "      <th>Year</th>\n",
       "      <th>Happiness Felt</th>\n",
       "      <th>Life Satisfaction</th>\n",
       "      <th>Sommerville Satisfaction</th>\n",
       "      <th>Similarity</th>\n",
       "      <th>Advice</th>\n",
       "      <th>Neighborhood Satisfaction</th>\n",
       "      <th>Somerville Pride</th>\n",
       "      <th>City Service Info</th>\n",
       "      <th>...</th>\n",
       "      <th>Move Away</th>\n",
       "      <th>Time in Somerville</th>\n",
       "      <th>Household Income</th>\n",
       "      <th>Neighborhood</th>\n",
       "      <th>Student</th>\n",
       "      <th>Ward</th>\n",
       "      <th>Precinct</th>\n",
       "      <th>Street Maintenance</th>\n",
       "      <th>Night Safety</th>\n",
       "      <th>Race</th>\n",
       "    </tr>\n",
       "  </thead>\n",
       "  <tbody>\n",
       "    <tr>\n",
       "      <th>535</th>\n",
       "      <td>530</td>\n",
       "      <td>2011</td>\n",
       "      <td>42.0</td>\n",
       "      <td>2.0</td>\n",
       "      <td>5.0</td>\n",
       "      <td>3.0</td>\n",
       "      <td>10.0</td>\n",
       "      <td>NaN</td>\n",
       "      <td>NaN</td>\n",
       "      <td>NaN</td>\n",
       "      <td>...</td>\n",
       "      <td>NaN</td>\n",
       "      <td>18+</td>\n",
       "      <td>100,000 and up</td>\n",
       "      <td>NaN</td>\n",
       "      <td>NaN</td>\n",
       "      <td>NaN</td>\n",
       "      <td>NaN</td>\n",
       "      <td>NaN</td>\n",
       "      <td>NaN</td>\n",
       "      <td>NaN</td>\n",
       "    </tr>\n",
       "    <tr>\n",
       "      <th>1338</th>\n",
       "      <td>1331</td>\n",
       "      <td>2011</td>\n",
       "      <td>77.0</td>\n",
       "      <td>7.0</td>\n",
       "      <td>9.0</td>\n",
       "      <td>4.0</td>\n",
       "      <td>8.0</td>\n",
       "      <td>NaN</td>\n",
       "      <td>NaN</td>\n",
       "      <td>NaN</td>\n",
       "      <td>...</td>\n",
       "      <td>NaN</td>\n",
       "      <td>12-17 Years</td>\n",
       "      <td>90,000 - $99,999</td>\n",
       "      <td>NaN</td>\n",
       "      <td>NaN</td>\n",
       "      <td>NaN</td>\n",
       "      <td>NaN</td>\n",
       "      <td>NaN</td>\n",
       "      <td>NaN</td>\n",
       "      <td>NaN</td>\n",
       "    </tr>\n",
       "    <tr>\n",
       "      <th>1857</th>\n",
       "      <td>1850</td>\n",
       "      <td>2011</td>\n",
       "      <td>810.0</td>\n",
       "      <td>10.0</td>\n",
       "      <td>8.0</td>\n",
       "      <td>7.0</td>\n",
       "      <td>4.0</td>\n",
       "      <td>NaN</td>\n",
       "      <td>NaN</td>\n",
       "      <td>NaN</td>\n",
       "      <td>...</td>\n",
       "      <td>NaN</td>\n",
       "      <td>18+</td>\n",
       "      <td>60,000 - $69,999</td>\n",
       "      <td>NaN</td>\n",
       "      <td>NaN</td>\n",
       "      <td>NaN</td>\n",
       "      <td>NaN</td>\n",
       "      <td>NaN</td>\n",
       "      <td>NaN</td>\n",
       "      <td>NaN</td>\n",
       "    </tr>\n",
       "    <tr>\n",
       "      <th>2463</th>\n",
       "      <td>2457</td>\n",
       "      <td>2011</td>\n",
       "      <td>88.0</td>\n",
       "      <td>8.0</td>\n",
       "      <td>8.0</td>\n",
       "      <td>6.0</td>\n",
       "      <td>9.0</td>\n",
       "      <td>NaN</td>\n",
       "      <td>NaN</td>\n",
       "      <td>NaN</td>\n",
       "      <td>...</td>\n",
       "      <td>NaN</td>\n",
       "      <td>0-5 Years</td>\n",
       "      <td>100,000 and up</td>\n",
       "      <td>NaN</td>\n",
       "      <td>NaN</td>\n",
       "      <td>NaN</td>\n",
       "      <td>NaN</td>\n",
       "      <td>NaN</td>\n",
       "      <td>NaN</td>\n",
       "      <td>NaN</td>\n",
       "    </tr>\n",
       "    <tr>\n",
       "      <th>3769</th>\n",
       "      <td>3763</td>\n",
       "      <td>2011</td>\n",
       "      <td>57.0</td>\n",
       "      <td>8.0</td>\n",
       "      <td>8.0</td>\n",
       "      <td>NaN</td>\n",
       "      <td>6.0</td>\n",
       "      <td>NaN</td>\n",
       "      <td>NaN</td>\n",
       "      <td>NaN</td>\n",
       "      <td>...</td>\n",
       "      <td>NaN</td>\n",
       "      <td>0-5 Years</td>\n",
       "      <td>10,000 - $19,999</td>\n",
       "      <td>NaN</td>\n",
       "      <td>NaN</td>\n",
       "      <td>NaN</td>\n",
       "      <td>NaN</td>\n",
       "      <td>NaN</td>\n",
       "      <td>NaN</td>\n",
       "      <td>NaN</td>\n",
       "    </tr>\n",
       "  </tbody>\n",
       "</table>\n",
       "<p>5 rows × 40 columns</p>\n",
       "</div>"
      ],
      "text/plain": [
       "      Combined_ID  Year  Happiness Felt  Life Satisfaction  \\\n",
       "535           530  2011            42.0                2.0   \n",
       "1338         1331  2011            77.0                7.0   \n",
       "1857         1850  2011           810.0               10.0   \n",
       "2463         2457  2011            88.0                8.0   \n",
       "3769         3763  2011            57.0                8.0   \n",
       "\n",
       "      Sommerville Satisfaction  Similarity  Advice  Neighborhood Satisfaction  \\\n",
       "535                        5.0         3.0    10.0                        NaN   \n",
       "1338                       9.0         4.0     8.0                        NaN   \n",
       "1857                       8.0         7.0     4.0                        NaN   \n",
       "2463                       8.0         6.0     9.0                        NaN   \n",
       "3769                       8.0         NaN     6.0                        NaN   \n",
       "\n",
       "      Somerville Pride  City Service Info  ...   Move Away  \\\n",
       "535                NaN                NaN  ...         NaN   \n",
       "1338               NaN                NaN  ...         NaN   \n",
       "1857               NaN                NaN  ...         NaN   \n",
       "2463               NaN                NaN  ...         NaN   \n",
       "3769               NaN                NaN  ...         NaN   \n",
       "\n",
       "      Time in Somerville  Household Income  Neighborhood  Student  Ward  \\\n",
       "535                  18+    100,000 and up           NaN      NaN   NaN   \n",
       "1338         12-17 Years  90,000 - $99,999           NaN      NaN   NaN   \n",
       "1857                 18+  60,000 - $69,999           NaN      NaN   NaN   \n",
       "2463           0-5 Years    100,000 and up           NaN      NaN   NaN   \n",
       "3769           0-5 Years  10,000 - $19,999           NaN      NaN   NaN   \n",
       "\n",
       "      Precinct  Street Maintenance  Night Safety  Race  \n",
       "535        NaN                 NaN           NaN   NaN  \n",
       "1338       NaN                 NaN           NaN   NaN  \n",
       "1857       NaN                 NaN           NaN   NaN  \n",
       "2463       NaN                 NaN           NaN   NaN  \n",
       "3769       NaN                 NaN           NaN   NaN  \n",
       "\n",
       "[5 rows x 40 columns]"
      ]
     },
     "execution_count": 24,
     "metadata": {},
     "output_type": "execute_result"
    }
   ],
   "source": [
    "survey_data[survey_data['Happiness Felt'] > 10]"
   ]
  },
  {
   "cell_type": "markdown",
   "metadata": {},
   "source": [
    "Although it looks like they might have just made a typo, since Happiness Felt is our predictor variable, it does not make sense to just impute the mean, so we're safer to just exclude these households completely."
   ]
  },
  {
   "cell_type": "code",
   "execution_count": 77,
   "metadata": {},
   "outputs": [],
   "source": [
    "survey_data = survey_data[survey_data['Happiness Felt'] <= 10]"
   ]
  },
  {
   "cell_type": "markdown",
   "metadata": {},
   "source": [
    "## Life Satisfaction"
   ]
  },
  {
   "cell_type": "code",
   "execution_count": 78,
   "metadata": {},
   "outputs": [
    {
     "data": {
      "text/plain": [
       "Life Satisfaction\n",
       "1.0       74\n",
       "2.0       63\n",
       "3.0      126\n",
       "3.5        1\n",
       "4.0      190\n",
       "5.0      342\n",
       "5.5        6\n",
       "6.0      526\n",
       "6.5        8\n",
       "7.0     1045\n",
       "7.5       10\n",
       "8.0     1744\n",
       "8.5       15\n",
       "9.0     1284\n",
       "9.5       13\n",
       "10.0     940\n",
       "99.0       2\n",
       "dtype: int64"
      ]
     },
     "execution_count": 78,
     "metadata": {},
     "output_type": "execute_result"
    }
   ],
   "source": [
    "survey_data.groupby('Life Satisfaction').size()"
   ]
  },
  {
   "cell_type": "markdown",
   "metadata": {},
   "source": [
    "Again, we have some outliers, so let's take look at those."
   ]
  },
  {
   "cell_type": "code",
   "execution_count": 79,
   "metadata": {},
   "outputs": [
    {
     "data": {
      "text/html": [
       "<div>\n",
       "<style scoped>\n",
       "    .dataframe tbody tr th:only-of-type {\n",
       "        vertical-align: middle;\n",
       "    }\n",
       "\n",
       "    .dataframe tbody tr th {\n",
       "        vertical-align: top;\n",
       "    }\n",
       "\n",
       "    .dataframe thead th {\n",
       "        text-align: right;\n",
       "    }\n",
       "</style>\n",
       "<table border=\"1\" class=\"dataframe\">\n",
       "  <thead>\n",
       "    <tr style=\"text-align: right;\">\n",
       "      <th></th>\n",
       "      <th>Combined_ID</th>\n",
       "      <th>Year</th>\n",
       "      <th>Happiness Felt</th>\n",
       "      <th>Life Satisfaction</th>\n",
       "      <th>Sommerville Satisfaction</th>\n",
       "      <th>Similarity</th>\n",
       "      <th>Advice</th>\n",
       "      <th>Neighborhood Satisfaction</th>\n",
       "      <th>Somerville Pride</th>\n",
       "      <th>City Service Info</th>\n",
       "      <th>...</th>\n",
       "      <th>Housing Status</th>\n",
       "      <th>Move Away</th>\n",
       "      <th>Time in Somerville</th>\n",
       "      <th>Household Income</th>\n",
       "      <th>Neighborhood</th>\n",
       "      <th>Student</th>\n",
       "      <th>Ward</th>\n",
       "      <th>Precinct</th>\n",
       "      <th>Street Maintenance</th>\n",
       "      <th>Night Safety</th>\n",
       "    </tr>\n",
       "  </thead>\n",
       "  <tbody>\n",
       "    <tr>\n",
       "      <th>1676</th>\n",
       "      <td>1667</td>\n",
       "      <td>2011</td>\n",
       "      <td>8.0</td>\n",
       "      <td>99.0</td>\n",
       "      <td>8.0</td>\n",
       "      <td>10.0</td>\n",
       "      <td>6.0</td>\n",
       "      <td>NaN</td>\n",
       "      <td>NaN</td>\n",
       "      <td>NaN</td>\n",
       "      <td>...</td>\n",
       "      <td>NaN</td>\n",
       "      <td>NaN</td>\n",
       "      <td>0-5 Years</td>\n",
       "      <td>60,000 - $69,999</td>\n",
       "      <td>NaN</td>\n",
       "      <td>NaN</td>\n",
       "      <td>NaN</td>\n",
       "      <td>NaN</td>\n",
       "      <td>0.0</td>\n",
       "      <td>0.0</td>\n",
       "    </tr>\n",
       "    <tr>\n",
       "      <th>4648</th>\n",
       "      <td>4642</td>\n",
       "      <td>2011</td>\n",
       "      <td>8.0</td>\n",
       "      <td>99.0</td>\n",
       "      <td>9.0</td>\n",
       "      <td>9.0</td>\n",
       "      <td>10.0</td>\n",
       "      <td>NaN</td>\n",
       "      <td>NaN</td>\n",
       "      <td>NaN</td>\n",
       "      <td>...</td>\n",
       "      <td>NaN</td>\n",
       "      <td>NaN</td>\n",
       "      <td>6-11 Years</td>\n",
       "      <td>100,000 and up</td>\n",
       "      <td>NaN</td>\n",
       "      <td>NaN</td>\n",
       "      <td>NaN</td>\n",
       "      <td>NaN</td>\n",
       "      <td>0.0</td>\n",
       "      <td>0.0</td>\n",
       "    </tr>\n",
       "  </tbody>\n",
       "</table>\n",
       "<p>2 rows × 41 columns</p>\n",
       "</div>"
      ],
      "text/plain": [
       "      Combined_ID  Year  Happiness Felt  Life Satisfaction  \\\n",
       "1676         1667  2011             8.0               99.0   \n",
       "4648         4642  2011             8.0               99.0   \n",
       "\n",
       "      Sommerville Satisfaction  Similarity  Advice  Neighborhood Satisfaction  \\\n",
       "1676                       8.0        10.0     6.0                        NaN   \n",
       "4648                       9.0         9.0    10.0                        NaN   \n",
       "\n",
       "      Somerville Pride  City Service Info      ...       Housing Status  \\\n",
       "1676               NaN                NaN      ...                  NaN   \n",
       "4648               NaN                NaN      ...                  NaN   \n",
       "\n",
       "      Move Away  Time in Somerville  Household Income  Neighborhood  Student  \\\n",
       "1676        NaN           0-5 Years  60,000 - $69,999           NaN      NaN   \n",
       "4648        NaN          6-11 Years    100,000 and up           NaN      NaN   \n",
       "\n",
       "      Ward  Precinct  Street Maintenance  Night Safety  \n",
       "1676   NaN       NaN                 0.0           0.0  \n",
       "4648   NaN       NaN                 0.0           0.0  \n",
       "\n",
       "[2 rows x 41 columns]"
      ]
     },
     "execution_count": 79,
     "metadata": {},
     "output_type": "execute_result"
    }
   ],
   "source": [
    "survey_data[survey_data['Life Satisfaction'] > 10]"
   ]
  },
  {
   "cell_type": "markdown",
   "metadata": {},
   "source": [
    "Since their Happiness Felt scores are in a normal range, let's just impute the mean for Life Satisfaction."
   ]
  },
  {
   "cell_type": "code",
   "execution_count": 81,
   "metadata": {},
   "outputs": [],
   "source": [
    "survey_data['Life Satisfaction'][survey_data['Life Satisfaction'] > 10] = 5.5"
   ]
  },
  {
   "cell_type": "markdown",
   "metadata": {},
   "source": [
    "It's possible that Happiness Felt and Life satisfaction are highly correlated and we could remove it completely, so let's check."
   ]
  },
  {
   "cell_type": "code",
   "execution_count": 96,
   "metadata": {},
   "outputs": [
    {
     "data": {
      "text/html": [
       "<div>\n",
       "<style scoped>\n",
       "    .dataframe tbody tr th:only-of-type {\n",
       "        vertical-align: middle;\n",
       "    }\n",
       "\n",
       "    .dataframe tbody tr th {\n",
       "        vertical-align: top;\n",
       "    }\n",
       "\n",
       "    .dataframe thead th {\n",
       "        text-align: right;\n",
       "    }\n",
       "</style>\n",
       "<table border=\"1\" class=\"dataframe\">\n",
       "  <thead>\n",
       "    <tr style=\"text-align: right;\">\n",
       "      <th></th>\n",
       "      <th>Happiness Felt</th>\n",
       "      <th>Life Satisfaction</th>\n",
       "    </tr>\n",
       "  </thead>\n",
       "  <tbody>\n",
       "    <tr>\n",
       "      <th>Happiness Felt</th>\n",
       "      <td>1.000000</td>\n",
       "      <td>0.788787</td>\n",
       "    </tr>\n",
       "    <tr>\n",
       "      <th>Life Satisfaction</th>\n",
       "      <td>0.788787</td>\n",
       "      <td>1.000000</td>\n",
       "    </tr>\n",
       "  </tbody>\n",
       "</table>\n",
       "</div>"
      ],
      "text/plain": [
       "                   Happiness Felt  Life Satisfaction\n",
       "Happiness Felt           1.000000           0.788787\n",
       "Life Satisfaction        0.788787           1.000000"
      ]
     },
     "execution_count": 96,
     "metadata": {},
     "output_type": "execute_result"
    }
   ],
   "source": [
    "survey_data[['Happiness Felt', 'Life Satisfaction']].corr(method='pearson')"
   ]
  },
  {
   "cell_type": "markdown",
   "metadata": {},
   "source": [
    "This shows a pretty strong relationship, so we can probably remove it, but let's keep it in for now."
   ]
  },
  {
   "cell_type": "code",
   "execution_count": 30,
   "metadata": {},
   "outputs": [
    {
     "name": "stderr",
     "output_type": "stream",
     "text": [
      "/anaconda3/lib/python3.7/site-packages/scipy/stats/stats.py:1713: FutureWarning: Using a non-tuple sequence for multidimensional indexing is deprecated; use `arr[tuple(seq)]` instead of `arr[seq]`. In the future this will be interpreted as an array index, `arr[np.array(seq)]`, which will result either in an error or a different result.\n",
      "  return np.add.reduce(sorted[indexer] * weights, axis=axis) / sumval\n"
     ]
    },
    {
     "data": {
      "text/plain": [
       "<matplotlib.axes._subplots.AxesSubplot at 0x1a1f2f8a90>"
      ]
     },
     "execution_count": 30,
     "metadata": {},
     "output_type": "execute_result"
    },
    {
     "data": {
      "image/png": "[encoded data removed]",
      "text/plain": [
       "<Figure size 432x288 with 1 Axes>"
      ]
     },
     "metadata": {
      "needs_background": "light"
     },
     "output_type": "display_data"
    }
   ],
   "source": [
    "sns.distplot(survey_data['Happiness Felt'])"
   ]
  },
  {
   "cell_type": "code",
   "execution_count": 47,
   "metadata": {},
   "outputs": [
    {
     "data": {
      "text/plain": [
       "<matplotlib.axes._subplots.AxesSubplot at 0x1a289d4710>"
      ]
     },
     "execution_count": 47,
     "metadata": {},
     "output_type": "execute_result"
    },
    {
     "data": {
      "image/png": "[encoded data removed]",
      "text/plain": [
       "<Figure size 432x288 with 1 Axes>"
      ]
     },
     "metadata": {
      "needs_background": "light"
     },
     "output_type": "display_data"
    }
   ],
   "source": [
    "sns.scatterplot(x=\"Sommerville Satisfaction\", y=\"Happiness Felt\", data=survey_data)"
   ]
  },
  {
   "cell_type": "code",
   "execution_count": 63,
   "metadata": {},
   "outputs": [
    {
     "data": {
      "text/plain": [
       "<seaborn.axisgrid.FacetGrid at 0x1a27c82c88>"
      ]
     },
     "execution_count": 63,
     "metadata": {},
     "output_type": "execute_result"
    },
    {
     "data": {
      "image/png": "[encoded data removed]",
      "text/plain": [
       "<Figure size 360x360 with 1 Axes>"
      ]
     },
     "metadata": {
      "needs_background": "light"
     },
     "output_type": "display_data"
    }
   ],
   "source": [
    "sns.catplot(x=\"Gender\", y=\"Happiness Felt\", kind=\"box\", data=survey_data)"
   ]
  },
  {
   "cell_type": "code",
   "execution_count": 57,
   "metadata": {},
   "outputs": [
    {
     "name": "stderr",
     "output_type": "stream",
     "text": [
      "/anaconda3/lib/python3.7/site-packages/scipy/stats/stats.py:1713: FutureWarning: Using a non-tuple sequence for multidimensional indexing is deprecated; use `arr[tuple(seq)]` instead of `arr[seq]`. In the future this will be interpreted as an array index, `arr[np.array(seq)]`, which will result either in an error or a different result.\n",
      "  return np.add.reduce(sorted[indexer] * weights, axis=axis) / sumval\n"
     ]
    },
    {
     "data": {
      "text/plain": [
       "<matplotlib.axes._subplots.AxesSubplot at 0x1a28ff5ef0>"
      ]
     },
     "execution_count": 57,
     "metadata": {},
     "output_type": "execute_result"
    },
    {
     "data": {
      "image/png": "[encoded data removed]",
      "text/plain": [
       "<Figure size 432x288 with 1 Axes>"
      ]
     },
     "metadata": {
      "needs_background": "light"
     },
     "output_type": "display_data"
    }
   ],
   "source": [
    "sns.distplot(survey_data.loc[survey_data['Gender'] == 'Female']['Happiness Felt'])\n",
    "sns.distplot(survey_data.loc[survey_data['Gender'] == 'Male']['Happiness Felt'])\n",
    "sns.distplot(survey_data.loc[survey_data['Gender'] == 'Transgender']['Happiness Felt'])\n",
    "\n"
   ]
  },
  {
   "cell_type": "code",
   "execution_count": 59,
   "metadata": {},
   "outputs": [
    {
     "data": {
      "text/plain": [
       "Marital Status\n",
       "Divorced                  503\n",
       "Married                  2258\n",
       "R                         274\n",
       "Single, Never Married    2695\n",
       "Widowed                   281\n",
       "dtype: int64"
      ]
     },
     "execution_count": 59,
     "metadata": {},
     "output_type": "execute_result"
    }
   ],
   "source": [
    "survey_data.groupby('Marital Status').size()"
   ]
  },
  {
   "cell_type": "code",
   "execution_count": 62,
   "metadata": {},
   "outputs": [
    {
     "data": {
      "text/plain": [
       "<seaborn.axisgrid.FacetGrid at 0x1a29002898>"
      ]
     },
     "execution_count": 62,
     "metadata": {},
     "output_type": "execute_result"
    },
    {
     "data": {
      "image/png": "[encoded data removed]",
      "text/plain": [
       "<Figure size 360x360 with 1 Axes>"
      ]
     },
     "metadata": {
      "needs_background": "light"
     },
     "output_type": "display_data"
    }
   ],
   "source": [
    "sns.catplot(x=\"Marital Status\", y=\"Happiness Felt\", kind=\"box\", data=survey_data)"
   ]
  },
  {
   "cell_type": "code",
   "execution_count": 64,
   "metadata": {},
   "outputs": [
    {
     "data": {
      "text/plain": [
       "<seaborn.axisgrid.FacetGrid at 0x1a27cf0ac8>"
      ]
     },
     "execution_count": 64,
     "metadata": {},
     "output_type": "execute_result"
    },
    {
     "data": {
      "image/png": "[encoded data removed]",
      "text/plain": [
       "<Figure size 360x360 with 1 Axes>"
      ]
     },
     "metadata": {
      "needs_background": "light"
     },
     "output_type": "display_data"
    }
   ],
   "source": [
    "sns.catplot(x=\"Children <18\", y=\"Happiness Felt\", kind=\"box\", data=survey_data)"
   ]
  },
  {
   "cell_type": "markdown",
   "metadata": {},
   "source": [
    "Looking at each individual pair is going to take some time. So let's look at a correlation matrix of all variables."
   ]
  },
  {
   "cell_type": "code",
   "execution_count": 43,
   "metadata": {},
   "outputs": [
    {
     "data": {
      "text/plain": [
       "<matplotlib.axes._subplots.AxesSubplot at 0x1a28011898>"
      ]
     },
     "execution_count": 43,
     "metadata": {},
     "output_type": "execute_result"
    },
    {
     "data": {
      "image/png": "[encoded data removed]",
      "text/plain": [
       "<Figure size 792x648 with 2 Axes>"
      ]
     },
     "metadata": {
      "needs_background": "light"
     },
     "output_type": "display_data"
    }
   ],
   "source": [
    "corr = survey_data.corr()\n",
    "f, ax = plt.subplots(figsize=(11, 9))\n",
    "sns.heatmap(corr)"
   ]
  }
 ],
 "metadata": {
  "kernelspec": {
   "display_name": "Python 3",
   "language": "python",
   "name": "python3"
  },
  "language_info": {
   "codemirror_mode": {
    "name": "ipython",
    "version": 3
   },
   "file_extension": ".py",
   "mimetype": "text/x-python",
   "name": "python",
   "nbconvert_exporter": "python",
   "pygments_lexer": "ipython3",
   "version": "3.7.2"
  }
 },
 "nbformat": 4,
 "nbformat_minor": 2
}
